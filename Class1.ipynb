{
 "cells": [
  {
   "cell_type": "markdown",
   "id": "fef6b3ad",
   "metadata": {},
   "source": [
    "# What is Python?\n",
    "- Python is an interpreted Language.\n"
   ]
  },
  {
   "cell_type": "markdown",
   "id": "b216b4e4",
   "metadata": {},
   "source": [
    "# What is Print statement in Python?\n",
    "\n",
    "- The Print is a Built-in function in Python is used to display the o/p in the console.\n",
    "- Print is mostly used when there is a need of Debugging in the code.\n",
    "- It accepts different data types as a i/p."
   ]
  },
  {
   "cell_type": "code",
   "execution_count": 1,
   "id": "fd34a95b",
   "metadata": {},
   "outputs": [
    {
     "name": "stdout",
     "output_type": "stream",
     "text": [
      "Hello World\n"
     ]
    }
   ],
   "source": [
    "print(\"Hello World\")"
   ]
  },
  {
   "cell_type": "markdown",
   "id": "fb58ab9b",
   "metadata": {},
   "source": [
    "# What are Variables in Python?\n",
    "\n",
    "- Variables in Python are names given to store any data values which were later used in the code.\n",
    "- Unlike C, C++ or any other OOPS languages, in Python no need to define the data types expicitly. Values can be assigned to a variable without defining it's type."
   ]
  },
  {
   "cell_type": "code",
   "execution_count": 2,
   "id": "855b9ec6",
   "metadata": {},
   "outputs": [
    {
     "name": "stdout",
     "output_type": "stream",
     "text": [
      "value of a 10 and value of b 20\n"
     ]
    }
   ],
   "source": [
    "a = 10\n",
    "b = 20\n",
    "\n",
    "print(f\"value of a {a} and value of b {b}\")"
   ]
  },
  {
   "cell_type": "markdown",
   "id": "e54e0239",
   "metadata": {},
   "source": [
    "# What are Data Types in Python?\n",
    "\n",
    "- In python each variable is assigned with a value, each values has it's own type of data.\n",
    "- There are different Data Types in Python.\n",
    "- 1. Primitive Data Types : String, Integer, Complex, Boolean. These are also called as build-in data types in Python.\n",
    "- 2. Non-Primitive Data Types : Lists, Tuples, Sets, Dictionaries."
   ]
  },
  {
   "cell_type": "markdown",
   "id": "f983bf7a",
   "metadata": {},
   "source": [
    "# What is Set Data Type?\n",
    "\n",
    "- A set is a collection of unique elements which are unordered.\n",
    "- Set is Mutable.\n",
    "- Elements in the set are immutable."
   ]
  },
  {
   "cell_type": "code",
   "execution_count": null,
   "id": "3a82303f",
   "metadata": {},
   "outputs": [
    {
     "name": "stdout",
     "output_type": "stream",
     "text": [
      "{'1', '0'}\n"
     ]
    }
   ],
   "source": [
    "a = \"1000\"\n",
    "\n",
    "a = set(a)\n",
    "\n",
    "print(a)"
   ]
  },
  {
   "cell_type": "markdown",
   "id": "49dbf731",
   "metadata": {},
   "source": [
    "# What is Range in Python?\n",
    "\n",
    "- In Python range is a built-in sequence type that represents the sequence of numbers.\n",
    "- Range is a data type in Python with it's type as \"range\"."
   ]
  },
  {
   "cell_type": "code",
   "execution_count": 7,
   "id": "3861aa18",
   "metadata": {},
   "outputs": [
    {
     "name": "stdout",
     "output_type": "stream",
     "text": [
      "0\n",
      "1\n",
      "2\n",
      "3\n",
      "4\n",
      "5\n"
     ]
    }
   ],
   "source": [
    "for i in range(6):\n",
    "\n",
    "    print(i)"
   ]
  },
  {
   "cell_type": "code",
   "execution_count": 9,
   "id": "889961fa",
   "metadata": {},
   "outputs": [
    {
     "name": "stdout",
     "output_type": "stream",
     "text": [
      "10 is an <class 'int'>,10.5 is a <class 'float'>,Vasu is a <class 'str'>,True is a <class 'bool'>\n"
     ]
    }
   ],
   "source": [
    "a = 10\n",
    "b = 10.5\n",
    "c = \"Vasu\"\n",
    "d = True\n",
    "\n",
    "print(f\"{a} is an {type(a)},{b} is a {type(b)},{c} is a {type(c)},{d} is a {type(d)}\")\n"
   ]
  },
  {
   "cell_type": "markdown",
   "id": "759dbb0e",
   "metadata": {},
   "source": [
    "# What are Lists in Python?\n",
    "\n",
    "- In Python Lists are collection of elements with different data types.\n",
    "- Lists are mutable.\n",
    "- Duplicate elements are allowed in Lists.\n",
    "- Each value in the lists are associated with index numbers from 0 to so on.\n",
    "- There are different methods that can be used on Lists."
   ]
  },
  {
   "cell_type": "code",
   "execution_count": 18,
   "id": "c4e4fba4",
   "metadata": {},
   "outputs": [
    {
     "name": "stdout",
     "output_type": "stream",
     "text": [
      "[1, 2, '3', 4, 5, 6, 7, 8, 9, '10'] is <class 'list'>\n"
     ]
    }
   ],
   "source": [
    "Roll_Numbers = [1,2,\"3\",4,5,6,7,8,9,\"10\"]\n",
    "\n",
    "print(f\"{Roll_Numbers} is {type(Roll_Numbers)}\")"
   ]
  },
  {
   "cell_type": "markdown",
   "id": "5161d053",
   "metadata": {},
   "source": [
    "# Append Method:\n",
    "\n",
    "- When append() method is performed on any List, the element or value which has to be appended will add to the end of the List."
   ]
  },
  {
   "cell_type": "code",
   "execution_count": 29,
   "id": "ceada2cb",
   "metadata": {},
   "outputs": [],
   "source": [
    "Roll_Numbers.append(11)"
   ]
  },
  {
   "cell_type": "code",
   "execution_count": 17,
   "id": "06e31f41",
   "metadata": {},
   "outputs": [
    {
     "name": "stdout",
     "output_type": "stream",
     "text": [
      "[] is <class 'list'>\n"
     ]
    }
   ],
   "source": [
    "print(f\"{Roll_Numbers} is {type(Roll_Numbers)}\")"
   ]
  },
  {
   "cell_type": "markdown",
   "id": "a16921f7",
   "metadata": {},
   "source": [
    "# Clear Method:\n",
    "\n",
    "- When clear() method is performed on any List, it clears the List and makes it empty List."
   ]
  },
  {
   "cell_type": "code",
   "execution_count": 16,
   "id": "8d3ac671",
   "metadata": {},
   "outputs": [],
   "source": [
    "Roll_Numbers.clear()"
   ]
  },
  {
   "cell_type": "code",
   "execution_count": 19,
   "id": "095d2db8",
   "metadata": {},
   "outputs": [
    {
     "name": "stdout",
     "output_type": "stream",
     "text": [
      "[1, 2, '3', 4, 5, 6, 7, 8, 9, '10']\n"
     ]
    }
   ],
   "source": [
    "b = Roll_Numbers\n",
    "\n",
    "print(f\"{b}\")"
   ]
  },
  {
   "cell_type": "code",
   "execution_count": 21,
   "id": "64e4db15",
   "metadata": {},
   "outputs": [
    {
     "name": "stdout",
     "output_type": "stream",
     "text": [
      "[1, 2, '3', 4, 5, 6, 7, 8, 9, '10', 11]\n"
     ]
    }
   ],
   "source": [
    "print(f\"{b}\")"
   ]
  },
  {
   "cell_type": "markdown",
   "id": "4985a075",
   "metadata": {},
   "source": [
    "# Copy Method:\n",
    "\n",
    "- The copy() method creates the copy of a List and stores it with a new object reference."
   ]
  },
  {
   "cell_type": "code",
   "execution_count": 24,
   "id": "ec946aaf",
   "metadata": {},
   "outputs": [
    {
     "name": "stdout",
     "output_type": "stream",
     "text": [
      "[1, 2, 3]\n",
      "[1, 2, 3]\n"
     ]
    }
   ],
   "source": [
    "a = [1,2,3]\n",
    "b = a\n",
    "\n",
    "print(f\"{a}\")\n",
    "print(f\"{b}\")"
   ]
  },
  {
   "cell_type": "code",
   "execution_count": 25,
   "id": "3b10cb2a",
   "metadata": {},
   "outputs": [
    {
     "name": "stdout",
     "output_type": "stream",
     "text": [
      "[1, 2, 3, 4]\n",
      "[1, 2, 3, 4]\n"
     ]
    }
   ],
   "source": [
    "a.append(4)\n",
    "\n",
    "print(f\"{a}\")\n",
    "print(f\"{b}\")"
   ]
  },
  {
   "cell_type": "code",
   "execution_count": 26,
   "id": "efb6d1f4",
   "metadata": {},
   "outputs": [
    {
     "name": "stdout",
     "output_type": "stream",
     "text": [
      "[1, 2, 3]\n",
      "[1, 2, 3]\n"
     ]
    }
   ],
   "source": [
    "a = [1,2,3]\n",
    "b = a.copy()\n",
    "\n",
    "print(f\"{a}\")\n",
    "print(f\"{b}\")"
   ]
  },
  {
   "cell_type": "code",
   "execution_count": 27,
   "id": "fdf4244a",
   "metadata": {},
   "outputs": [
    {
     "name": "stdout",
     "output_type": "stream",
     "text": [
      "[1, 2, 3, 4]\n",
      "[1, 2, 3]\n"
     ]
    }
   ],
   "source": [
    "a.append(4)\n",
    "\n",
    "print(f\"{a}\")\n",
    "print(f\"{b}\")"
   ]
  },
  {
   "cell_type": "markdown",
   "id": "e6b93a67",
   "metadata": {},
   "source": [
    "# Count Method:\n",
    "\n",
    "- Count() Method returns an integer value counting the number of times a particular value is specified in the List."
   ]
  },
  {
   "cell_type": "code",
   "execution_count": 30,
   "id": "2786211d",
   "metadata": {},
   "outputs": [
    {
     "data": {
      "text/plain": [
       "2"
      ]
     },
     "execution_count": 30,
     "metadata": {},
     "output_type": "execute_result"
    }
   ],
   "source": [
    "Roll_Numbers.count(11)"
   ]
  },
  {
   "cell_type": "markdown",
   "id": "53f7aa37",
   "metadata": {},
   "source": [
    "# Index Method:\n",
    "\n",
    "- Index() method returns an integer value, stating where the specified element is stored in the List."
   ]
  },
  {
   "cell_type": "code",
   "execution_count": 31,
   "id": "56992e3d",
   "metadata": {},
   "outputs": [
    {
     "data": {
      "text/plain": [
       "10"
      ]
     },
     "execution_count": 31,
     "metadata": {},
     "output_type": "execute_result"
    }
   ],
   "source": [
    "Roll_Numbers.index(11)"
   ]
  },
  {
   "cell_type": "markdown",
   "id": "2e769dc9",
   "metadata": {},
   "source": [
    "# Extend Method\n",
    "\n",
    "- Extend() Method is used to add the two lists. The extended list is added to the end of the first list."
   ]
  },
  {
   "cell_type": "code",
   "execution_count": 34,
   "id": "dfb3408c",
   "metadata": {},
   "outputs": [
    {
     "name": "stdout",
     "output_type": "stream",
     "text": [
      "[1, 2, 3, 4, 5, 6]\n",
      "[1, 2, 3, 4, 5, 6, [4, 5, 6]]\n"
     ]
    }
   ],
   "source": [
    "a = [1,2,3]\n",
    "b = [4,5,6]\n",
    "\n",
    "a.extend(b)\n",
    "\n",
    "print(f\"{a}\")\n",
    "\n",
    "a.append(b)\n",
    "\n",
    "print(f\"{a}\")\n",
    "\n",
    "\n"
   ]
  },
  {
   "cell_type": "markdown",
   "id": "5a8c7b88",
   "metadata": {},
   "source": [
    "# Insert Method:\n",
    "\n",
    "- Insert() method is used to add any elements in the List.\n",
    "- To add the elements, two arguments should be passed, one is the index number and value to that index number."
   ]
  },
  {
   "cell_type": "code",
   "execution_count": 35,
   "id": "9fc79e9b",
   "metadata": {},
   "outputs": [
    {
     "name": "stdout",
     "output_type": "stream",
     "text": [
      "[0, 1, 2, 3, 4, 5, 6, [4, 5, 6]]\n"
     ]
    }
   ],
   "source": [
    "a.insert(0,0)\n",
    "\n",
    "print(f\"{a}\")\n",
    "\n",
    "\n"
   ]
  },
  {
   "cell_type": "code",
   "execution_count": 36,
   "id": "bee4f09c",
   "metadata": {},
   "outputs": [
    {
     "ename": "TypeError",
     "evalue": "insert expected 2 arguments, got 1",
     "output_type": "error",
     "traceback": [
      "\u001b[31m---------------------------------------------------------------------------\u001b[39m",
      "\u001b[31mTypeError\u001b[39m                                 Traceback (most recent call last)",
      "\u001b[36mCell\u001b[39m\u001b[36m \u001b[39m\u001b[32mIn[36]\u001b[39m\u001b[32m, line 1\u001b[39m\n\u001b[32m----> \u001b[39m\u001b[32m1\u001b[39m \u001b[43ma\u001b[49m\u001b[43m.\u001b[49m\u001b[43minsert\u001b[49m\u001b[43m(\u001b[49m\u001b[32;43m0\u001b[39;49m\u001b[43m)\u001b[49m\n\u001b[32m      3\u001b[39m \u001b[38;5;28mprint\u001b[39m(\u001b[33mf\u001b[39m\u001b[33m\"\u001b[39m\u001b[38;5;132;01m{\u001b[39;00ma\u001b[38;5;132;01m}\u001b[39;00m\u001b[33m\"\u001b[39m)\n",
      "\u001b[31mTypeError\u001b[39m: insert expected 2 arguments, got 1"
     ]
    }
   ],
   "source": [
    "a.insert(0)\n",
    "\n",
    "print(f\"{a}\")\n",
    "\n",
    "\n"
   ]
  },
  {
   "cell_type": "markdown",
   "id": "faf3c812",
   "metadata": {},
   "source": [
    "# Sort Method:\n",
    "\n",
    "- Sort() method is performed on lists to arrange the values in an order."
   ]
  },
  {
   "cell_type": "code",
   "execution_count": 37,
   "id": "01a6fcf2",
   "metadata": {},
   "outputs": [
    {
     "name": "stdout",
     "output_type": "stream",
     "text": [
      "[1, 2, 4, 5]\n"
     ]
    }
   ],
   "source": [
    "a = [4,5,1,2]\n",
    "a.sort()\n",
    "\n",
    "print(f\"{a}\")\n",
    "\n",
    "\n"
   ]
  },
  {
   "cell_type": "markdown",
   "id": "34a36dfd",
   "metadata": {},
   "source": [
    "# Reverse Method:\n",
    "\n",
    "- reverse() method is performed on Lists to arrange the elements in a reverse order."
   ]
  },
  {
   "cell_type": "code",
   "execution_count": 38,
   "id": "cbd0d7aa",
   "metadata": {},
   "outputs": [
    {
     "name": "stdout",
     "output_type": "stream",
     "text": [
      "[2, 1, 5, 4]\n"
     ]
    }
   ],
   "source": [
    "a = [4,5,1,2]\n",
    "a.reverse()\n",
    "\n",
    "print(f\"{a}\")\n",
    "\n",
    "\n"
   ]
  },
  {
   "cell_type": "markdown",
   "id": "3b91100b",
   "metadata": {},
   "source": [
    "# Pop Method:\n",
    "\n",
    "- Pop() method is used to remove the element on a specified position in the list using index number or default it is last item in the list."
   ]
  },
  {
   "cell_type": "code",
   "execution_count": 39,
   "id": "6232a53c",
   "metadata": {},
   "outputs": [
    {
     "data": {
      "text/plain": [
       "4"
      ]
     },
     "execution_count": 39,
     "metadata": {},
     "output_type": "execute_result"
    }
   ],
   "source": [
    "a.pop()"
   ]
  },
  {
   "cell_type": "code",
   "execution_count": 40,
   "id": "87dec8e1",
   "metadata": {},
   "outputs": [
    {
     "name": "stdout",
     "output_type": "stream",
     "text": [
      "[2, 1, 5]\n"
     ]
    }
   ],
   "source": [
    "print(f\"{a}\")\n"
   ]
  },
  {
   "cell_type": "markdown",
   "id": "ce12f468",
   "metadata": {},
   "source": [
    "# Remove Method:\n",
    "\n",
    "- remove() method is used to remove the specified element in the list with it's value."
   ]
  },
  {
   "cell_type": "code",
   "execution_count": 41,
   "id": "47ee0f61",
   "metadata": {},
   "outputs": [
    {
     "name": "stdout",
     "output_type": "stream",
     "text": [
      "[2, 5]\n"
     ]
    }
   ],
   "source": [
    "a.remove(1)\n",
    "print(f\"{a}\")\n",
    "\n"
   ]
  }
 ],
 "metadata": {
  "kernelspec": {
   "display_name": ".venv",
   "language": "python",
   "name": "python3"
  },
  "language_info": {
   "codemirror_mode": {
    "name": "ipython",
    "version": 3
   },
   "file_extension": ".py",
   "mimetype": "text/x-python",
   "name": "python",
   "nbconvert_exporter": "python",
   "pygments_lexer": "ipython3",
   "version": "3.11.4"
  }
 },
 "nbformat": 4,
 "nbformat_minor": 5
}
