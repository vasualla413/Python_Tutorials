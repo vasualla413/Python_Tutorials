{
 "cells": [
  {
   "cell_type": "markdown",
   "id": "3b10b44a",
   "metadata": {},
   "source": [
    "# What is Tuple in Python?\n",
    "\n",
    "- Tuple is a collection of different types of Data types. \n",
    "- It allows Duplicates.\n",
    "- Tuple is Immutable\n",
    "- No methods are used in tuple unlike Lits. Built-in functions are used.\n",
    "\n",
    "- e.g. a = (1,2,\"abc\",\"False\",[1,2,3]). In this example we have mutable object called list. As said before tuple is immutable, still we can modify the list in it. a[4].append(4)"
   ]
  },
  {
   "cell_type": "code",
   "execution_count": null,
   "id": "3651b3c7",
   "metadata": {},
   "outputs": [
    {
     "name": "stdout",
     "output_type": "stream",
     "text": [
      "(1, 3, 5, 'Vasu', 10, 13, 25)\n",
      "25\n",
      "(5, 'Vasu', 10)\n"
     ]
    },
    {
     "data": {
      "text/plain": [
       "tuple"
      ]
     },
     "execution_count": 5,
     "metadata": {},
     "output_type": "execute_result"
    }
   ],
   "source": [
    "a = (1,3,5,\"Vasu\",10,13,25)\n",
    "\n",
    "print(a)\n",
    "print(a[-1])\n",
    "print(a[2:5]) #Range\n",
    "type(a)"
   ]
  },
  {
   "cell_type": "markdown",
   "id": "02544d16",
   "metadata": {},
   "source": [
    "- We know tuples are unchangeable. But there is a workaround, we can convert a tuple into list and modify it's elements and convert back to tuple."
   ]
  },
  {
   "cell_type": "code",
   "execution_count": 9,
   "id": "20c62611",
   "metadata": {},
   "outputs": [
    {
     "data": {
      "text/plain": [
       "[0, 3, 5, 'Vasu', 10, 13, 25, '123']"
      ]
     },
     "execution_count": 9,
     "metadata": {},
     "output_type": "execute_result"
    }
   ],
   "source": [
    "b = list(a)\n",
    "\n",
    "b[0] = 0\n",
    "b.append(\"123\")\n",
    "b"
   ]
  },
  {
   "cell_type": "code",
   "execution_count": 10,
   "id": "bf085d97",
   "metadata": {},
   "outputs": [
    {
     "data": {
      "text/plain": [
       "(0, 3, 5, 'Vasu', 10, 13, 25, '123')"
      ]
     },
     "execution_count": 10,
     "metadata": {},
     "output_type": "execute_result"
    }
   ],
   "source": [
    "a = tuple(b)\n",
    "\n",
    "a"
   ]
  },
  {
   "cell_type": "markdown",
   "id": "d49e160f",
   "metadata": {},
   "source": [
    "- We can add a tuple to another tuple."
   ]
  },
  {
   "cell_type": "code",
   "execution_count": 11,
   "id": "76224994",
   "metadata": {},
   "outputs": [
    {
     "data": {
      "text/plain": [
       "(0, 3, 5, 'Vasu', 10, 13, 25, '123', 'Coolie', 'War2', 'HHVM')"
      ]
     },
     "execution_count": 11,
     "metadata": {},
     "output_type": "execute_result"
    }
   ],
   "source": [
    "c = (\"Coolie\",\"War2\",\"HHVM\")\n",
    "\n",
    "a += c\n",
    "\n",
    "a"
   ]
  },
  {
   "cell_type": "markdown",
   "id": "982e6f87",
   "metadata": {},
   "source": [
    "- Unpacking Tuple:\n",
    "- When we create a tuple, we assign values to it. That is called packing a tuple.\n",
    "- There is a option called unpacking a tuple, where the values in the tuple can be extracted and assign it to variables.\n",
    "\n",
    "- Note: The number of variables must match the number of values in the tuple,if not use the \"*\" symbol to collect the remaining values as a list.\n"
   ]
  },
  {
   "cell_type": "code",
   "execution_count": null,
   "id": "2385d582",
   "metadata": {},
   "outputs": [
    {
     "data": {
      "text/plain": [
       "'Orange'"
      ]
     },
     "execution_count": 13,
     "metadata": {},
     "output_type": "execute_result"
    }
   ],
   "source": [
    "a = (\"Apple\", \"Orange\", \"Grapes\")\n",
    "\n",
    "(b,c,d) = a\n",
    "\n",
    "c"
   ]
  },
  {
   "cell_type": "code",
   "execution_count": 14,
   "id": "733ba649",
   "metadata": {},
   "outputs": [
    {
     "data": {
      "text/plain": [
       "['Apple', 'Orange']"
      ]
     },
     "execution_count": 14,
     "metadata": {},
     "output_type": "execute_result"
    }
   ],
   "source": [
    "(*b,c) = a\n",
    "\n",
    "b"
   ]
  },
  {
   "cell_type": "markdown",
   "id": "37c9d76e",
   "metadata": {},
   "source": [
    "- You can join two tuples with + operator\n",
    "- You can multiply content of tuples with * operator\n"
   ]
  },
  {
   "cell_type": "code",
   "execution_count": 19,
   "id": "a849cbaa",
   "metadata": {},
   "outputs": [
    {
     "name": "stdout",
     "output_type": "stream",
     "text": [
      "(1, 2, 3, '1', '2', '3')\n",
      "(1, 2, 3, 1, 2, 3, 1, 2, 3, 1, 2, 3)\n"
     ]
    }
   ],
   "source": [
    "a = (1,2,3)\n",
    "b =(\"1\",\"2\",\"3\")\n",
    "\n",
    "c = a + b\n",
    "d = a * 4  \n",
    "\n",
    "print(c)\n",
    "print(d)"
   ]
  },
  {
   "cell_type": "code",
   "execution_count": 25,
   "id": "4ae996cb",
   "metadata": {},
   "outputs": [
    {
     "data": {
      "text/plain": [
       "4"
      ]
     },
     "execution_count": 25,
     "metadata": {},
     "output_type": "execute_result"
    }
   ],
   "source": [
    "d.count(1)"
   ]
  },
  {
   "cell_type": "code",
   "execution_count": null,
   "id": "7e8a7b57",
   "metadata": {},
   "outputs": [
    {
     "data": {
      "text/plain": [
       "2"
      ]
     },
     "execution_count": 24,
     "metadata": {},
     "output_type": "execute_result"
    }
   ],
   "source": [
    "d.index(3)"
   ]
  },
  {
   "cell_type": "code",
   "execution_count": null,
   "id": "1859ee15",
   "metadata": {},
   "outputs": [],
   "source": []
  }
 ],
 "metadata": {
  "kernelspec": {
   "display_name": "venv",
   "language": "python",
   "name": "python3"
  },
  "language_info": {
   "codemirror_mode": {
    "name": "ipython",
    "version": 3
   },
   "file_extension": ".py",
   "mimetype": "text/x-python",
   "name": "python",
   "nbconvert_exporter": "python",
   "pygments_lexer": "ipython3",
   "version": "3.13.5"
  }
 },
 "nbformat": 4,
 "nbformat_minor": 5
}
