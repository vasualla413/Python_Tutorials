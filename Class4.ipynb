{
 "cells": [
  {
   "cell_type": "markdown",
   "id": "e30c8fe3",
   "metadata": {},
   "source": [
    "# Sets in Python\n",
    "\n",
    "- A set is collection of different data types, which are unordered, unchangeable and unindexed.\n",
    "- Sets are stored in curly braces {}.\n",
    "- While said Set is Unchangeable: Set items are unchangeable, but you can remove items and add new items.\n",
    "- Example of a set a = {\"a\",1,2.3,\"vasu\"}\n",
    "- No Duplicates are allowed in sets.\n",
    "- In sets True and 1, False and 0 are considered as same values.\n"
   ]
  },
  {
   "cell_type": "markdown",
   "id": "8b802557",
   "metadata": {},
   "source": [
    "- We can find the length of the set."
   ]
  },
  {
   "cell_type": "code",
   "execution_count": 1,
   "id": "be2dc399",
   "metadata": {},
   "outputs": [
    {
     "data": {
      "text/plain": [
       "4"
      ]
     },
     "execution_count": 1,
     "metadata": {},
     "output_type": "execute_result"
    }
   ],
   "source": [
    "a = {\"a\",1,2.3,\"vasu\"}\n",
    "\n",
    "len(a)"
   ]
  },
  {
   "cell_type": "code",
   "execution_count": 2,
   "id": "93ae5824",
   "metadata": {},
   "outputs": [
    {
     "data": {
      "text/plain": [
       "set"
      ]
     },
     "execution_count": 2,
     "metadata": {},
     "output_type": "execute_result"
    }
   ],
   "source": [
    "type(a)"
   ]
  },
  {
   "cell_type": "code",
   "execution_count": 5,
   "id": "eea003a2",
   "metadata": {},
   "outputs": [
    {
     "data": {
      "text/plain": [
       "{1, 2, 3}"
      ]
     },
     "execution_count": 5,
     "metadata": {},
     "output_type": "execute_result"
    }
   ],
   "source": [
    "b = set((1,2,3,2))\n",
    "b"
   ]
  },
  {
   "cell_type": "markdown",
   "id": "2539bb3b",
   "metadata": {},
   "source": [
    "- We cannot loop a set as set is unordered. Instead we can use \"in\" operator to find the values in the set."
   ]
  },
  {
   "cell_type": "code",
   "execution_count": null,
   "id": "2d5ab3a9",
   "metadata": {},
   "outputs": [
    {
     "name": "stdout",
     "output_type": "stream",
     "text": [
      "1\n",
      "2\n",
      "3\n"
     ]
    }
   ],
   "source": [
    "b = set((1,2,3,2))\n",
    "\n",
    "\n",
    "for c in b:\n",
    "    print(c)"
   ]
  },
  {
   "cell_type": "code",
   "execution_count": 3,
   "id": "40fefb85",
   "metadata": {},
   "outputs": [
    {
     "name": "stdout",
     "output_type": "stream",
     "text": [
      "False\n"
     ]
    }
   ],
   "source": [
    "print(3 not in b)"
   ]
  },
  {
   "cell_type": "code",
   "execution_count": 4,
   "id": "81706fe8",
   "metadata": {},
   "outputs": [
    {
     "data": {
      "text/plain": [
       "{1, 2, 3, 4}"
      ]
     },
     "execution_count": 4,
     "metadata": {},
     "output_type": "execute_result"
    }
   ],
   "source": [
    "b.add(4)\n",
    "\n",
    "b"
   ]
  },
  {
   "cell_type": "markdown",
   "id": "a7ab444c",
   "metadata": {},
   "source": [
    "- If we want to add two sets, we use the update() method.\n",
    "- We can update a set with anyother datatypes like Lists, Tuples, Dict."
   ]
  },
  {
   "cell_type": "code",
   "execution_count": 6,
   "id": "462d79bd",
   "metadata": {},
   "outputs": [
    {
     "data": {
      "text/plain": [
       "{1, 2, 2.3, 3, 4, 'a', 'vasu'}"
      ]
     },
     "execution_count": 6,
     "metadata": {},
     "output_type": "execute_result"
    }
   ],
   "source": [
    "a = {\"a\",1,2.3,\"vasu\"}\n",
    "\n",
    "b.update(a)\n",
    "\n",
    "b"
   ]
  },
  {
   "cell_type": "markdown",
   "id": "7a90909a",
   "metadata": {},
   "source": [
    "- In sets we can remove the items, by using remove() or discard() methods.\n",
    "- We can use the pop() method to remove but it removes the element anonymously.\n",
    "- clear() method is used to clear the set and del() method is used to delete the entire set.  "
   ]
  },
  {
   "cell_type": "code",
   "execution_count": 9,
   "id": "bc2f4771",
   "metadata": {},
   "outputs": [
    {
     "data": {
      "text/plain": [
       "{1, 2, 2.3, 4, 'a', 'vasu'}"
      ]
     },
     "execution_count": 9,
     "metadata": {},
     "output_type": "execute_result"
    }
   ],
   "source": [
    "b.remove(3)\n",
    "b"
   ]
  },
  {
   "cell_type": "code",
   "execution_count": 12,
   "id": "7e016590",
   "metadata": {},
   "outputs": [
    {
     "data": {
      "text/plain": [
       "{2, 2.3, 4, 'a', 'vasu'}"
      ]
     },
     "execution_count": 12,
     "metadata": {},
     "output_type": "execute_result"
    }
   ],
   "source": [
    "b.discard(1)\n",
    "b\n"
   ]
  },
  {
   "cell_type": "code",
   "execution_count": 15,
   "id": "33af6b48",
   "metadata": {},
   "outputs": [
    {
     "data": {
      "text/plain": [
       "{2.3, 'a', 'vasu'}"
      ]
     },
     "execution_count": 15,
     "metadata": {},
     "output_type": "execute_result"
    }
   ],
   "source": [
    "b.pop()\n",
    "b"
   ]
  },
  {
   "cell_type": "code",
   "execution_count": 16,
   "id": "9425f640",
   "metadata": {},
   "outputs": [
    {
     "data": {
      "text/plain": [
       "set()"
      ]
     },
     "execution_count": 16,
     "metadata": {},
     "output_type": "execute_result"
    }
   ],
   "source": [
    "b.clear()\n",
    "b"
   ]
  },
  {
   "cell_type": "code",
   "execution_count": 17,
   "id": "b58dfc98",
   "metadata": {},
   "outputs": [],
   "source": [
    "del b"
   ]
  },
  {
   "cell_type": "code",
   "execution_count": 18,
   "id": "4f5fbfc8",
   "metadata": {},
   "outputs": [
    {
     "ename": "NameError",
     "evalue": "name 'b' is not defined",
     "output_type": "error",
     "traceback": [
      "\u001b[31m---------------------------------------------------------------------------\u001b[39m",
      "\u001b[31mNameError\u001b[39m                                 Traceback (most recent call last)",
      "\u001b[36mCell\u001b[39m\u001b[36m \u001b[39m\u001b[32mIn[18]\u001b[39m\u001b[32m, line 1\u001b[39m\n\u001b[32m----> \u001b[39m\u001b[32m1\u001b[39m \u001b[43mb\u001b[49m\n",
      "\u001b[31mNameError\u001b[39m: name 'b' is not defined"
     ]
    }
   ],
   "source": [
    "b"
   ]
  },
  {
   "cell_type": "markdown",
   "id": "3dc80b92",
   "metadata": {},
   "source": [
    "# Join in Sets\n",
    "- We can update two sets into a single by using Join methods and operators.\n",
    "- We have several methods in sets to join, Some of the methods are union() or '|' operator, intersection() or '&' operator, intersection_update(), difference(), difference_update(), symmetric_difference(), symmetric_difference_update().\n"
   ]
  },
  {
   "cell_type": "markdown",
   "id": "c4ff96ac",
   "metadata": {},
   "source": [
    "- Union() method. \n",
    "- Note: The difference between union() and update() "
   ]
  },
  {
   "cell_type": "code",
   "execution_count": 4,
   "id": "b9edbef0",
   "metadata": {},
   "outputs": [
    {
     "data": {
      "text/plain": [
       "{1, 2, 3, 4, 5, 'a', 'b', 'c', 'y', 'z'}"
      ]
     },
     "execution_count": 4,
     "metadata": {},
     "output_type": "execute_result"
    }
   ],
   "source": [
    "set1 = {\"a\",\"b\",\"c\"}\n",
    "set2 = {1,2,3}\n",
    "set3 = {1,4,5,3,\"y\",\"z\"}\n",
    "\n",
    "set1.union(set2,set3)"
   ]
  },
  {
   "cell_type": "markdown",
   "id": "161cc9c0",
   "metadata": {},
   "source": [
    "- Intersection() method.\n"
   ]
  },
  {
   "cell_type": "code",
   "execution_count": 5,
   "id": "3e9036c2",
   "metadata": {},
   "outputs": [
    {
     "data": {
      "text/plain": [
       "{1, 3}"
      ]
     },
     "execution_count": 5,
     "metadata": {},
     "output_type": "execute_result"
    }
   ],
   "source": [
    "set2.intersection(set3)"
   ]
  },
  {
   "cell_type": "markdown",
   "id": "b05d5ecb",
   "metadata": {},
   "source": [
    "- difference() method."
   ]
  },
  {
   "cell_type": "code",
   "execution_count": 6,
   "id": "452675d8",
   "metadata": {},
   "outputs": [
    {
     "data": {
      "text/plain": [
       "{2}"
      ]
     },
     "execution_count": 6,
     "metadata": {},
     "output_type": "execute_result"
    }
   ],
   "source": [
    "set2.difference(set3)"
   ]
  },
  {
   "cell_type": "markdown",
   "id": "c5e6f69e",
   "metadata": {},
   "source": [
    "- Python has set of built-in methods we can use in sets."
   ]
  }
 ],
 "metadata": {
  "kernelspec": {
   "display_name": "venv",
   "language": "python",
   "name": "python3"
  },
  "language_info": {
   "codemirror_mode": {
    "name": "ipython",
    "version": 3
   },
   "file_extension": ".py",
   "mimetype": "text/x-python",
   "name": "python",
   "nbconvert_exporter": "python",
   "pygments_lexer": "ipython3",
   "version": "3.13.5"
  }
 },
 "nbformat": 4,
 "nbformat_minor": 5
}
