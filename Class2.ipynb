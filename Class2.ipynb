{
 "cells": [
  {
   "cell_type": "markdown",
   "id": "354a1234",
   "metadata": {},
   "source": [
    "# What are Operators in Python?\n",
    "\n",
    "- Operators are something that are performed on one or more operands to perform operations.\n",
    "- There are some operators that used often in Python: 1. Addition and Unary Plus (+)\n",
    "                                                      2. Subtraction and Unary Minus (-)\n",
    "                                                      3. Multiplication (*)\n",
    "                                                      4. Division(/)\n",
    "                                                      5. Floor Division(//)\n",
    "                                                      6. Modulus(%)\n",
    "                                                      7. Power(**)"
   ]
  },
  {
   "cell_type": "markdown",
   "id": "1d402dbb",
   "metadata": {},
   "source": [
    "# 1. Addition and Unary Plus:\n",
    "\n",
    "- Unary Plus: Performing operation on single operand.\n",
    "- Addition Plus: Performing operation on two or more operands."
   ]
  },
  {
   "cell_type": "code",
   "execution_count": 1,
   "id": "673fc72d",
   "metadata": {},
   "outputs": [
    {
     "data": {
      "text/plain": [
       "-10"
      ]
     },
     "execution_count": 1,
     "metadata": {},
     "output_type": "execute_result"
    }
   ],
   "source": [
    "x = -10\n",
    "y = +x\n",
    "\n",
    "y"
   ]
  },
  {
   "cell_type": "code",
   "execution_count": 4,
   "id": "92c13979",
   "metadata": {},
   "outputs": [
    {
     "data": {
      "text/plain": [
       "20"
      ]
     },
     "execution_count": 4,
     "metadata": {},
     "output_type": "execute_result"
    }
   ],
   "source": [
    "x = 10\n",
    "y = 10\n",
    "\n",
    "x + y"
   ]
  },
  {
   "cell_type": "markdown",
   "id": "fcfb374b",
   "metadata": {},
   "source": [
    "# 2. Substraction and Unary Minus:\n",
    "\n",
    "- Unary Minus: Performing operation on single operand.\n",
    "- Substraction Minus: Performing operation on two or more operands."
   ]
  },
  {
   "cell_type": "code",
   "execution_count": 5,
   "id": "347f320d",
   "metadata": {},
   "outputs": [
    {
     "data": {
      "text/plain": [
       "10"
      ]
     },
     "execution_count": 5,
     "metadata": {},
     "output_type": "execute_result"
    }
   ],
   "source": [
    "x = -10\n",
    "y = -x\n",
    "\n",
    "y"
   ]
  },
  {
   "cell_type": "code",
   "execution_count": 6,
   "id": "8c47b96b",
   "metadata": {},
   "outputs": [
    {
     "data": {
      "text/plain": [
       "10"
      ]
     },
     "execution_count": 6,
     "metadata": {},
     "output_type": "execute_result"
    }
   ],
   "source": [
    "x = -10\n",
    "y = -20\n",
    "\n",
    "x-y"
   ]
  },
  {
   "cell_type": "markdown",
   "id": "c76a1f2d",
   "metadata": {},
   "source": [
    "# 3. Multiplication"
   ]
  },
  {
   "cell_type": "code",
   "execution_count": 7,
   "id": "38829025",
   "metadata": {},
   "outputs": [
    {
     "data": {
      "text/plain": [
       "200"
      ]
     },
     "execution_count": 7,
     "metadata": {},
     "output_type": "execute_result"
    }
   ],
   "source": [
    "x = 10\n",
    "y = 20\n",
    "\n",
    "x * y"
   ]
  },
  {
   "cell_type": "markdown",
   "id": "b426c813",
   "metadata": {},
   "source": [
    "# 4. Division"
   ]
  },
  {
   "cell_type": "code",
   "execution_count": 8,
   "id": "9e47b3b4",
   "metadata": {},
   "outputs": [
    {
     "data": {
      "text/plain": [
       "2.0"
      ]
     },
     "execution_count": 8,
     "metadata": {},
     "output_type": "execute_result"
    }
   ],
   "source": [
    "x = 20\n",
    "y = 10\n",
    "\n",
    "x / y"
   ]
  },
  {
   "cell_type": "markdown",
   "id": "82e03454",
   "metadata": {},
   "source": [
    "# 5. Floor Division"
   ]
  },
  {
   "cell_type": "code",
   "execution_count": 9,
   "id": "638c36f9",
   "metadata": {},
   "outputs": [
    {
     "data": {
      "text/plain": [
       "2"
      ]
     },
     "execution_count": 9,
     "metadata": {},
     "output_type": "execute_result"
    }
   ],
   "source": [
    "x = 20\n",
    "y = 10\n",
    "\n",
    "x // y"
   ]
  },
  {
   "cell_type": "markdown",
   "id": "afcab449",
   "metadata": {},
   "source": [
    "# 6. Modulus"
   ]
  },
  {
   "cell_type": "code",
   "execution_count": 10,
   "id": "1c00fe4d",
   "metadata": {},
   "outputs": [
    {
     "data": {
      "text/plain": [
       "1"
      ]
     },
     "execution_count": 10,
     "metadata": {},
     "output_type": "execute_result"
    }
   ],
   "source": [
    "x = 4\n",
    "y = 3\n",
    "\n",
    "x % y"
   ]
  },
  {
   "cell_type": "markdown",
   "id": "1d58f091",
   "metadata": {},
   "source": [
    "# 7. Power"
   ]
  },
  {
   "cell_type": "code",
   "execution_count": 11,
   "id": "ce439fdf",
   "metadata": {},
   "outputs": [
    {
     "data": {
      "text/plain": [
       "1024"
      ]
     },
     "execution_count": 11,
     "metadata": {},
     "output_type": "execute_result"
    }
   ],
   "source": [
    "x = 4\n",
    "y = 5\n",
    "\n",
    "x ** y"
   ]
  },
  {
   "cell_type": "markdown",
   "id": "216abbac",
   "metadata": {},
   "source": [
    "# Precedence and Associativity of Arithmetic Operators.\n",
    "\n",
    "- Precedence: In an expression precedence tells, in which order the operators should be performed on operands.\n",
    "- Associativity: It tells the order of evaluation of the operators with same precedence in an expression."
   ]
  },
  {
   "cell_type": "markdown",
   "id": "3b9e48d0",
   "metadata": {},
   "source": [
    "- In the below example, Floor division has the highest precedence. So, 8//2 is performed first. Next 10 + 5 - 4 will be there. As + and - has the same precendence Associativity comes in to the picture. For + and - the order of reading the expression is Left to Right. So it is 15-4 = 11. \n",
    "\n",
    "Note: The order of execution is same for all the expressions which is from left to right except for **. For ** it reads from Right to Left."
   ]
  },
  {
   "cell_type": "code",
   "execution_count": 2,
   "id": "e16e54d0",
   "metadata": {},
   "outputs": [
    {
     "data": {
      "text/plain": [
       "11"
      ]
     },
     "execution_count": 2,
     "metadata": {},
     "output_type": "execute_result"
    }
   ],
   "source": [
    "10 + 5 - 8 // 2"
   ]
  },
  {
   "cell_type": "markdown",
   "id": "d7ca28c6",
   "metadata": {},
   "source": [
    "# Comparison Operators or Relational Operators:\n",
    "\n",
    "- Comparison operators are used to compare two operands at a time. Comparison Operands often return True or False from the statement.\n",
    "\n",
    "- Some of the Comparison operators are >,<, ==, <=, >=, !=\n",
    "\n",
    "- Note: Single = is an assignment operator.\n",
    "\n",
    "\n"
   ]
  },
  {
   "cell_type": "code",
   "execution_count": 3,
   "id": "542f5875",
   "metadata": {},
   "outputs": [
    {
     "data": {
      "text/plain": [
       "False"
      ]
     },
     "execution_count": 3,
     "metadata": {},
     "output_type": "execute_result"
    }
   ],
   "source": [
    "10 > 20\n"
   ]
  },
  {
   "cell_type": "code",
   "execution_count": 4,
   "id": "b5d9609f",
   "metadata": {},
   "outputs": [
    {
     "data": {
      "text/plain": [
       "True"
      ]
     },
     "execution_count": 4,
     "metadata": {},
     "output_type": "execute_result"
    }
   ],
   "source": [
    "10 < 20"
   ]
  },
  {
   "cell_type": "code",
   "execution_count": 5,
   "id": "fb3511b8",
   "metadata": {},
   "outputs": [
    {
     "data": {
      "text/plain": [
       "False"
      ]
     },
     "execution_count": 5,
     "metadata": {},
     "output_type": "execute_result"
    }
   ],
   "source": [
    "10 == 20"
   ]
  },
  {
   "cell_type": "code",
   "execution_count": 6,
   "id": "744dcdb8",
   "metadata": {},
   "outputs": [
    {
     "data": {
      "text/plain": [
       "False"
      ]
     },
     "execution_count": 6,
     "metadata": {},
     "output_type": "execute_result"
    }
   ],
   "source": [
    "10 <= 5"
   ]
  },
  {
   "cell_type": "code",
   "execution_count": 7,
   "id": "7c1755e1",
   "metadata": {},
   "outputs": [
    {
     "data": {
      "text/plain": [
       "True"
      ]
     },
     "execution_count": 7,
     "metadata": {},
     "output_type": "execute_result"
    }
   ],
   "source": [
    "10 >= 5"
   ]
  },
  {
   "cell_type": "code",
   "execution_count": 8,
   "id": "db8b4679",
   "metadata": {},
   "outputs": [
    {
     "data": {
      "text/plain": [
       "True"
      ]
     },
     "execution_count": 8,
     "metadata": {},
     "output_type": "execute_result"
    }
   ],
   "source": [
    "10 != 20"
   ]
  },
  {
   "cell_type": "code",
   "execution_count": 9,
   "id": "8471ade6",
   "metadata": {},
   "outputs": [
    {
     "data": {
      "text/plain": [
       "False"
      ]
     },
     "execution_count": 9,
     "metadata": {},
     "output_type": "execute_result"
    }
   ],
   "source": [
    "10 != 10"
   ]
  },
  {
   "cell_type": "code",
   "execution_count": 3,
   "id": "40546e54",
   "metadata": {},
   "outputs": [
    {
     "data": {
      "text/plain": [
       "12"
      ]
     },
     "execution_count": 3,
     "metadata": {},
     "output_type": "execute_result"
    }
   ],
   "source": [
    "a = 10\n",
    "\n",
    "a += 2\n",
    "\n",
    "a"
   ]
  },
  {
   "cell_type": "code",
   "execution_count": null,
   "id": "ad21e674",
   "metadata": {},
   "outputs": [
    {
     "data": {
      "text/plain": [
       "8"
      ]
     },
     "execution_count": 4,
     "metadata": {},
     "output_type": "execute_result"
    }
   ],
   "source": [
    "a = 10\n",
    "\n",
    "a -= 2\n",
    "\n",
    "a"
   ]
  },
  {
   "cell_type": "code",
   "execution_count": 7,
   "id": "c735f5c3",
   "metadata": {},
   "outputs": [
    {
     "name": "stdout",
     "output_type": "stream",
     "text": [
      "True\n",
      "False\n",
      "False\n",
      "False\n",
      "True\n",
      "True\n"
     ]
    }
   ],
   "source": [
    "a = 2\n",
    "b = 2\n",
    "\n",
    "print(a == b)\n",
    "print(a != b)\n",
    "print(a > b)\n",
    "print(a < b)\n",
    "print(a >= b)\n",
    "print(a <= b)"
   ]
  },
  {
   "cell_type": "code",
   "execution_count": 8,
   "id": "9fe2f28b",
   "metadata": {},
   "outputs": [
    {
     "data": {
      "text/plain": [
       "True"
      ]
     },
     "execution_count": 8,
     "metadata": {},
     "output_type": "execute_result"
    }
   ],
   "source": [
    "a == 2 and b ==2"
   ]
  },
  {
   "cell_type": "code",
   "execution_count": 9,
   "id": "693a69b6",
   "metadata": {},
   "outputs": [
    {
     "data": {
      "text/plain": [
       "True"
      ]
     },
     "execution_count": 9,
     "metadata": {},
     "output_type": "execute_result"
    }
   ],
   "source": [
    "a == 2 or b ==2"
   ]
  },
  {
   "cell_type": "code",
   "execution_count": 10,
   "id": "8c47cbdd",
   "metadata": {},
   "outputs": [
    {
     "data": {
      "text/plain": [
       "False"
      ]
     },
     "execution_count": 10,
     "metadata": {},
     "output_type": "execute_result"
    }
   ],
   "source": [
    "a == 2 and b == 5"
   ]
  },
  {
   "cell_type": "code",
   "execution_count": null,
   "id": "2a23cec1",
   "metadata": {},
   "outputs": [
    {
     "data": {
      "text/plain": [
       "True"
      ]
     },
     "execution_count": 12,
     "metadata": {},
     "output_type": "execute_result"
    }
   ],
   "source": [
    "a == 2 or b == 5"
   ]
  },
  {
   "cell_type": "code",
   "execution_count": 13,
   "id": "919149a1",
   "metadata": {},
   "outputs": [
    {
     "data": {
      "text/plain": [
       "True"
      ]
     },
     "execution_count": 13,
     "metadata": {},
     "output_type": "execute_result"
    }
   ],
   "source": [
    "not(a == 5)"
   ]
  },
  {
   "cell_type": "code",
   "execution_count": 14,
   "id": "6cf84b31",
   "metadata": {},
   "outputs": [
    {
     "data": {
      "text/plain": [
       "False"
      ]
     },
     "execution_count": 14,
     "metadata": {},
     "output_type": "execute_result"
    }
   ],
   "source": [
    "not(a == 2)"
   ]
  },
  {
   "cell_type": "code",
   "execution_count": 15,
   "id": "26f0dfc8",
   "metadata": {},
   "outputs": [
    {
     "data": {
      "text/plain": [
       "True"
      ]
     },
     "execution_count": 15,
     "metadata": {},
     "output_type": "execute_result"
    }
   ],
   "source": [
    "not((a == 2) and (b == 5))"
   ]
  },
  {
   "cell_type": "code",
   "execution_count": 18,
   "id": "7c8bdf08",
   "metadata": {},
   "outputs": [
    {
     "name": "stdout",
     "output_type": "stream",
     "text": [
      "1810732917248\n",
      "1810732661440\n",
      "1810732917248\n",
      "True\n",
      "True\n"
     ]
    }
   ],
   "source": [
    "x = [1,2,3]\n",
    "y = [4,5,6]\n",
    "z = x\n",
    "\n",
    "print(id(x))\n",
    "print(id(y))\n",
    "print(id(z))\n",
    "\n",
    "print(x is z)\n",
    "print(x is not y)"
   ]
  },
  {
   "cell_type": "code",
   "execution_count": 19,
   "id": "d6369ad0",
   "metadata": {},
   "outputs": [
    {
     "data": {
      "text/plain": [
       "False"
      ]
     },
     "execution_count": 19,
     "metadata": {},
     "output_type": "execute_result"
    }
   ],
   "source": [
    "5 in x"
   ]
  },
  {
   "cell_type": "code",
   "execution_count": 20,
   "id": "bc70d50f",
   "metadata": {},
   "outputs": [
    {
     "data": {
      "text/plain": [
       "True"
      ]
     },
     "execution_count": 20,
     "metadata": {},
     "output_type": "execute_result"
    }
   ],
   "source": [
    "5 not in x"
   ]
  },
  {
   "cell_type": "code",
   "execution_count": 21,
   "id": "97893b26",
   "metadata": {},
   "outputs": [
    {
     "name": "stdout",
     "output_type": "stream",
     "text": [
      "2\n"
     ]
    }
   ],
   "source": [
    "print(6 & 3)"
   ]
  },
  {
   "cell_type": "code",
   "execution_count": 22,
   "id": "15caeba7",
   "metadata": {},
   "outputs": [
    {
     "name": "stdout",
     "output_type": "stream",
     "text": [
      "7\n"
     ]
    }
   ],
   "source": [
    "print(6 | 3)"
   ]
  },
  {
   "cell_type": "code",
   "execution_count": 23,
   "id": "83dc636a",
   "metadata": {},
   "outputs": [
    {
     "name": "stdout",
     "output_type": "stream",
     "text": [
      "5\n"
     ]
    }
   ],
   "source": [
    "print(6 ^ 3)"
   ]
  },
  {
   "cell_type": "code",
   "execution_count": 24,
   "id": "aefe352e",
   "metadata": {},
   "outputs": [
    {
     "name": "stdout",
     "output_type": "stream",
     "text": [
      "12\n"
     ]
    }
   ],
   "source": [
    "print(3 << 2)"
   ]
  },
  {
   "cell_type": "code",
   "execution_count": 25,
   "id": "c09cdca6",
   "metadata": {},
   "outputs": [
    {
     "name": "stdout",
     "output_type": "stream",
     "text": [
      "0\n"
     ]
    }
   ],
   "source": [
    "print(3 >> 2)"
   ]
  },
  {
   "cell_type": "code",
   "execution_count": 26,
   "id": "5aeed95f",
   "metadata": {},
   "outputs": [
    {
     "data": {
      "text/plain": [
       "-9"
      ]
     },
     "execution_count": 26,
     "metadata": {},
     "output_type": "execute_result"
    }
   ],
   "source": [
    "~8"
   ]
  },
  {
   "cell_type": "code",
   "execution_count": 27,
   "id": "e573c2a6",
   "metadata": {},
   "outputs": [
    {
     "data": {
      "text/plain": [
       "1"
      ]
     },
     "execution_count": 27,
     "metadata": {},
     "output_type": "execute_result"
    }
   ],
   "source": [
    "3 & 1"
   ]
  },
  {
   "cell_type": "code",
   "execution_count": 28,
   "id": "adc25278",
   "metadata": {},
   "outputs": [
    {
     "data": {
      "text/plain": [
       "3"
      ]
     },
     "execution_count": 28,
     "metadata": {},
     "output_type": "execute_result"
    }
   ],
   "source": [
    "3 | 1"
   ]
  },
  {
   "cell_type": "markdown",
   "id": "84091a7c",
   "metadata": {},
   "source": [
    "- Write a program to check if a number is positive, negative, or zero."
   ]
  },
  {
   "cell_type": "code",
   "execution_count": 33,
   "id": "361fdcd2",
   "metadata": {},
   "outputs": [
    {
     "name": "stdout",
     "output_type": "stream",
     "text": [
      "3 is positive\n"
     ]
    }
   ],
   "source": [
    "a = input()\n",
    "a = int(a)\n",
    "\n",
    "if a > 0:\n",
    "    print(f\"{a} is positive\")\n",
    "elif a < 0:\n",
    "    print(f\"{a} is negative\")\n",
    "else: \n",
    "    print(f\"{a} is Zero\") \n",
    "\n",
    "    "
   ]
  },
  {
   "cell_type": "code",
   "execution_count": 32,
   "id": "fa64daed",
   "metadata": {},
   "outputs": [
    {
     "data": {
      "text/plain": [
       "int"
      ]
     },
     "execution_count": 32,
     "metadata": {},
     "output_type": "execute_result"
    }
   ],
   "source": [
    "type(a)"
   ]
  },
  {
   "cell_type": "markdown",
   "id": "b05714fa",
   "metadata": {},
   "source": [
    "- Check if a number is positive and even"
   ]
  },
  {
   "cell_type": "code",
   "execution_count": 2,
   "id": "9737fb65",
   "metadata": {},
   "outputs": [
    {
     "name": "stdout",
     "output_type": "stream",
     "text": [
      "10 is Positive and Even\n"
     ]
    }
   ],
   "source": [
    "a = input()\n",
    "a = int(a)\n",
    "\n",
    "if a >= 0 and a % 2 == 0:\n",
    "    print(f\"{a} is Positive and Even\")\n",
    "else:\n",
    "    print(f\"{a} is not both positive and even\")"
   ]
  },
  {
   "cell_type": "markdown",
   "id": "7bb9d128",
   "metadata": {},
   "source": [
    "- Verify if a number lies between 50 and 100 inclusive. in(membership)\n"
   ]
  },
  {
   "cell_type": "code",
   "execution_count": 5,
   "id": "19e3b07d",
   "metadata": {},
   "outputs": [
    {
     "name": "stdout",
     "output_type": "stream",
     "text": [
      "101 is out of range\n"
     ]
    }
   ],
   "source": [
    "a = input()\n",
    "a = int(a)\n",
    "\n",
    "if a in range(50,101):\n",
    "    print(f\"{a} is in given range\")\n",
    "else:\n",
    "    print(f\"{a} is out of range\")\n"
   ]
  },
  {
   "cell_type": "markdown",
   "id": "6edbde6b",
   "metadata": {},
   "source": [
    "- Compare two strings and check if their lengths are equal. \n"
   ]
  },
  {
   "cell_type": "code",
   "execution_count": 6,
   "id": "70764ae3",
   "metadata": {},
   "outputs": [
    {
     "name": "stdout",
     "output_type": "stream",
     "text": [
      "The Length of Vasu and Shanmukh are not equal\n"
     ]
    }
   ],
   "source": [
    "a = input()\n",
    "b = input()\n",
    "\n",
    "if len(a) == len(b):\n",
    "    print(f\"The Length of {a} and {b} are equal\")\n",
    "else:\n",
    "    print(f\"The Length of {a} and {b} are not equal\")"
   ]
  },
  {
   "cell_type": "markdown",
   "id": "93cc4f1e",
   "metadata": {},
   "source": [
    "- Given three numbers, check if all are positive using and. \n"
   ]
  },
  {
   "cell_type": "code",
   "execution_count": 1,
   "id": "4902f215",
   "metadata": {},
   "outputs": [
    {
     "name": "stdout",
     "output_type": "stream",
     "text": [
      "All the numbers are not positive\n"
     ]
    }
   ],
   "source": [
    "a = input()\n",
    "a = int(a)\n",
    "b = input()\n",
    "b = int(b)\n",
    "c = input()\n",
    "c = int(c)\n",
    "\n",
    "if a >= 0 and b >= 0 and c >= 0:\n",
    "    print(\"All the numbers are positive\")\n",
    "else:\n",
    "    print(\"All the numbers are not positive\")\n"
   ]
  },
  {
   "cell_type": "markdown",
   "id": "56dbf67b",
   "metadata": {},
   "source": [
    "- Check if at least one number among three is even using or. \n"
   ]
  },
  {
   "cell_type": "code",
   "execution_count": null,
   "id": "3da84598",
   "metadata": {},
   "outputs": [
    {
     "name": "stdout",
     "output_type": "stream",
     "text": [
      "Atleast one value is Even\n"
     ]
    }
   ],
   "source": [
    "a = input()\n",
    "a = int(a)\n",
    "b = input()\n",
    "b = int(b)\n",
    "c = input()\n",
    "c = int(c)\n",
    "\n",
    "if a % 2 == 0 or b % 2 == 0 or c % 2 == 0:\n",
    "    print(\"Atleast one value is Even\")\n",
    "else:\n",
    "    print(\"No value is Even\")"
   ]
  },
  {
   "cell_type": "markdown",
   "id": "7e19828e",
   "metadata": {},
   "source": [
    "- Check if a given number is divisible by both 2 and 3. \n"
   ]
  },
  {
   "cell_type": "code",
   "execution_count": 6,
   "id": "657b3253",
   "metadata": {},
   "outputs": [
    {
     "name": "stdout",
     "output_type": "stream",
     "text": [
      "The given number is not divisible by both 2 and 3\n"
     ]
    }
   ],
   "source": [
    "a = int(input())\n",
    "\n",
    "if a % 2 == 0 and a % 3 == 0:\n",
    "    print(\"The given number is divisible by both 2 and 3\")\n",
    "else:\n",
    "    print(\"The given number is not divisible by both 2 and 3\")"
   ]
  },
  {
   "cell_type": "markdown",
   "id": "45830f8a",
   "metadata": {},
   "source": [
    "- A student passes if marks ≥ 40 and attendance ≥ 75%. Check and print pass/fail.\n"
   ]
  },
  {
   "cell_type": "code",
   "execution_count": 7,
   "id": "8c42443a",
   "metadata": {},
   "outputs": [
    {
     "name": "stdout",
     "output_type": "stream",
     "text": [
      "Student failed\n"
     ]
    }
   ],
   "source": [
    "marks = int(input())\n",
    "attendance = int(input())\n",
    "\n",
    "if marks >= 40 and attendance >= 75:\n",
    "    print(\"Student Passed\")\n",
    "else:\n",
    "    print(\"Student failed\")\n"
   ]
  },
  {
   "cell_type": "markdown",
   "id": "437ebbc9",
   "metadata": {},
   "source": [
    "- Check if a year is a leap year:\n"
   ]
  },
  {
   "cell_type": "code",
   "execution_count": 10,
   "id": "863a1f88",
   "metadata": {},
   "outputs": [
    {
     "name": "stdout",
     "output_type": "stream",
     "text": [
      "It is leap year\n"
     ]
    }
   ],
   "source": [
    "year = int(input())\n",
    "\n",
    "if year % 4 == 0 and year % 100 != 0 or year % 400 == 0:\n",
    "    print(\"It is leap year\")\n",
    "else:\n",
    "    print(\"It is not a leap year\")"
   ]
  },
  {
   "cell_type": "markdown",
   "id": "7368191d",
   "metadata": {},
   "source": [
    "- Start with x = 10, use += to add 5, then *= to multiply by 2, then -= to subtract 3. Print final value.\n"
   ]
  },
  {
   "cell_type": "code",
   "execution_count": 11,
   "id": "f6ad4d9e",
   "metadata": {},
   "outputs": [
    {
     "data": {
      "text/plain": [
       "27"
      ]
     },
     "execution_count": 11,
     "metadata": {},
     "output_type": "execute_result"
    }
   ],
   "source": [
    "x = 10\n",
    "x += 5\n",
    "x *= 2\n",
    "x -= 3\n",
    "\n",
    "x"
   ]
  },
  {
   "cell_type": "markdown",
   "id": "babad325",
   "metadata": {},
   "source": [
    "- Write a program to calculate n^5 using **=.\n"
   ]
  },
  {
   "cell_type": "code",
   "execution_count": 14,
   "id": "ddb33817",
   "metadata": {},
   "outputs": [
    {
     "data": {
      "text/plain": [
       "32"
      ]
     },
     "execution_count": 14,
     "metadata": {},
     "output_type": "execute_result"
    }
   ],
   "source": [
    "n = int(input())\n",
    "n **= 5\n",
    "\n",
    "n"
   ]
  },
  {
   "cell_type": "markdown",
   "id": "47800d5c",
   "metadata": {},
   "source": [
    "- Given price = 500, reduce it by 10% using *= and print updated price.\n"
   ]
  },
  {
   "cell_type": "code",
   "execution_count": 18,
   "id": "94013ecc",
   "metadata": {},
   "outputs": [
    {
     "data": {
      "text/plain": [
       "450.0"
      ]
     },
     "execution_count": 18,
     "metadata": {},
     "output_type": "execute_result"
    }
   ],
   "source": [
    "price = 500\n",
    "price *= 1 - 10/100\n",
    "\n",
    "price"
   ]
  },
  {
   "cell_type": "markdown",
   "id": "542df171",
   "metadata": {},
   "source": [
    "- Swap two variables with using a third variable.\n"
   ]
  },
  {
   "cell_type": "code",
   "execution_count": 19,
   "id": "00a3868c",
   "metadata": {},
   "outputs": [
    {
     "data": {
      "text/plain": [
       "(20, 10)"
      ]
     },
     "execution_count": 19,
     "metadata": {},
     "output_type": "execute_result"
    }
   ],
   "source": [
    "a = 10\n",
    "b = 20\n",
    "\n",
    "c = a\n",
    "a = b\n",
    "b = c\n",
    "\n",
    "a,b"
   ]
  },
  {
   "cell_type": "code",
   "execution_count": 22,
   "id": "55852e48",
   "metadata": {},
   "outputs": [
    {
     "data": {
      "text/plain": [
       "(10, 20)"
      ]
     },
     "execution_count": 22,
     "metadata": {},
     "output_type": "execute_result"
    }
   ],
   "source": [
    "a = 20\n",
    "b = 10\n",
    "a,b = b,a\n",
    "\n",
    "a,b"
   ]
  },
  {
   "cell_type": "code",
   "execution_count": null,
   "id": "c5422a88",
   "metadata": {},
   "outputs": [],
   "source": []
  }
 ],
 "metadata": {
  "kernelspec": {
   "display_name": "venv",
   "language": "python",
   "name": "python3"
  },
  "language_info": {
   "codemirror_mode": {
    "name": "ipython",
    "version": 3
   },
   "file_extension": ".py",
   "mimetype": "text/x-python",
   "name": "python",
   "nbconvert_exporter": "python",
   "pygments_lexer": "ipython3",
   "version": "3.13.5"
  }
 },
 "nbformat": 4,
 "nbformat_minor": 5
}
